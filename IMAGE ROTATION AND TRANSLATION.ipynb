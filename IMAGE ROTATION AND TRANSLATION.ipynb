{
 "cells": [
  {
   "cell_type": "code",
   "execution_count": 1,
   "id": "be4e26bf",
   "metadata": {},
   "outputs": [],
   "source": [
    "import cv2"
   ]
  },
  {
   "cell_type": "code",
   "execution_count": 2,
   "id": "92fb52cc",
   "metadata": {},
   "outputs": [],
   "source": [
    "import numpy as np"
   ]
  },
  {
   "cell_type": "code",
   "execution_count": 3,
   "id": "c73919d6",
   "metadata": {},
   "outputs": [],
   "source": [
    "im1=cv2.imread(\"climb.jpg\",0)"
   ]
  },
  {
   "cell_type": "code",
   "execution_count": 4,
   "id": "e3827220",
   "metadata": {},
   "outputs": [
    {
     "data": {
      "text/plain": [
       "array([[ 39,  41,  44, ..., 109, 106, 104],\n",
       "       [ 39,  40,  43, ..., 109, 107, 105],\n",
       "       [ 39,  40,  42, ..., 108, 107, 106],\n",
       "       ...,\n",
       "       [ 76,  83,  80, ...,  17,  18,  15],\n",
       "       [ 73,  79,  76, ...,  20,  19,  15],\n",
       "       [ 68,  74,  71, ...,  22,  20,  15]], dtype=uint8)"
      ]
     },
     "execution_count": 4,
     "metadata": {},
     "output_type": "execute_result"
    }
   ],
   "source": [
    "im1"
   ]
  },
  {
   "cell_type": "code",
   "execution_count": 5,
   "id": "15ff56fb",
   "metadata": {},
   "outputs": [
    {
     "name": "stdout",
     "output_type": "stream",
     "text": [
      "(348, 612)\n"
     ]
    }
   ],
   "source": [
    "shp=im1.shape \n",
    "print(shp)"
   ]
  },
  {
   "cell_type": "code",
   "execution_count": 6,
   "id": "2128e4cc",
   "metadata": {},
   "outputs": [
    {
     "name": "stdout",
     "output_type": "stream",
     "text": [
      "348\n",
      "612\n"
     ]
    }
   ],
   "source": [
    "height,width=im1.shape[:2]\n",
    "print(height)\n",
    "print(width)"
   ]
  },
  {
   "cell_type": "code",
   "execution_count": 7,
   "id": "2963a7d3",
   "metadata": {},
   "outputs": [
    {
     "data": {
      "text/plain": [
       "(174.0, 306.0)"
      ]
     },
     "execution_count": 7,
     "metadata": {},
     "output_type": "execute_result"
    }
   ],
   "source": [
    "cent=(height/2,width/2)\n",
    "cent"
   ]
  },
  {
   "cell_type": "code",
   "execution_count": 8,
   "id": "ef7d3419",
   "metadata": {},
   "outputs": [],
   "source": [
    "rotation_matrix=cv2.getRotationMatrix2D(center=cent,angle=30,scale=0.6)"
   ]
  },
  {
   "cell_type": "code",
   "execution_count": 9,
   "id": "2ca02580",
   "metadata": {},
   "outputs": [
    {
     "name": "stdout",
     "output_type": "stream",
     "text": [
      "[[  0.51961524   0.3         -8.21305216]\n",
      " [ -0.3          0.51961524 199.19773587]]\n"
     ]
    }
   ],
   "source": [
    "print(rotation_matrix)"
   ]
  },
  {
   "cell_type": "code",
   "execution_count": 10,
   "id": "f48f4651",
   "metadata": {},
   "outputs": [],
   "source": [
    "rotated_im=cv2.warpAffine(src=im1, M=rotation_matrix, dsize=(width, height))"
   ]
  },
  {
   "cell_type": "code",
   "execution_count": 11,
   "id": "049d8a74",
   "metadata": {},
   "outputs": [],
   "source": [
    "cv2.imshow(\"Original image\", im1)\n",
    "cv2.waitKey(0)\n",
    "cv2.imshow(\"Rotated image\", rotated_im)\n",
    "cv2.waitKey(0)\n",
    "cv2.destroyAllWindows()"
   ]
  },
  {
   "cell_type": "markdown",
   "id": "ee32e99f",
   "metadata": {},
   "source": [
    "# Translation Matrix"
   ]
  },
  {
   "cell_type": "code",
   "execution_count": 12,
   "id": "8213aa2b",
   "metadata": {},
   "outputs": [],
   "source": [
    "tx,ty=width/2,height/2"
   ]
  },
  {
   "cell_type": "code",
   "execution_count": 13,
   "id": "63415773",
   "metadata": {},
   "outputs": [
    {
     "data": {
      "text/plain": [
       "174.0"
      ]
     },
     "execution_count": 13,
     "metadata": {},
     "output_type": "execute_result"
    }
   ],
   "source": [
    "ty"
   ]
  },
  {
   "cell_type": "code",
   "execution_count": 14,
   "id": "c7b97c21",
   "metadata": {},
   "outputs": [],
   "source": [
    "Translation_matrix=np.array([[1,0,tx],[0,1,ty]])"
   ]
  },
  {
   "cell_type": "code",
   "execution_count": 15,
   "id": "bf94e2b9",
   "metadata": {},
   "outputs": [
    {
     "data": {
      "text/plain": [
       "array([[  1.,   0., 306.],\n",
       "       [  0.,   1., 174.]])"
      ]
     },
     "execution_count": 15,
     "metadata": {},
     "output_type": "execute_result"
    }
   ],
   "source": [
    "Translation_matrix"
   ]
  },
  {
   "cell_type": "code",
   "execution_count": 19,
   "id": "8b38a460",
   "metadata": {},
   "outputs": [],
   "source": [
    "Trans_im=cv2.warpAffine(src=im1,M=Translation_matrix,dsize=(height,width))"
   ]
  },
  {
   "cell_type": "code",
   "execution_count": 20,
   "id": "2e3a0a92",
   "metadata": {},
   "outputs": [],
   "source": [
    "cv2.imshow(\"Original image\", im1)\n",
    "cv2.waitKey(0)\n",
    "cv2.imshow(\"Trans image\", Trans_im)\n",
    "cv2.waitKey(0)\n",
    "cv2.destroyAllWindows()"
   ]
  },
  {
   "cell_type": "code",
   "execution_count": null,
   "id": "566a8f36",
   "metadata": {},
   "outputs": [],
   "source": []
  }
 ],
 "metadata": {
  "kernelspec": {
   "display_name": "Python 3 (ipykernel)",
   "language": "python",
   "name": "python3"
  },
  "language_info": {
   "codemirror_mode": {
    "name": "ipython",
    "version": 3
   },
   "file_extension": ".py",
   "mimetype": "text/x-python",
   "name": "python",
   "nbconvert_exporter": "python",
   "pygments_lexer": "ipython3",
   "version": "3.9.13"
  }
 },
 "nbformat": 4,
 "nbformat_minor": 5
}
