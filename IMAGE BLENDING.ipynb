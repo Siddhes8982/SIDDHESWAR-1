{
 "cells": [
  {
   "cell_type": "code",
   "execution_count": 1,
   "id": "57199daa",
   "metadata": {},
   "outputs": [],
   "source": [
    "import cv2\n",
    "import numpy"
   ]
  },
  {
   "cell_type": "code",
   "execution_count": 2,
   "id": "d3b106e2",
   "metadata": {},
   "outputs": [],
   "source": [
    "im1=cv2.imread(\"C:/Users/CSES134/Pictures/blue.png\")"
   ]
  },
  {
   "cell_type": "code",
   "execution_count": 3,
   "id": "0bcee23c",
   "metadata": {},
   "outputs": [
    {
     "data": {
      "text/plain": [
       "array([[[204,  72,  63],\n",
       "        [204,  72,  63],\n",
       "        [204,  72,  63],\n",
       "        ...,\n",
       "        [204,  72,  63],\n",
       "        [204,  72,  63],\n",
       "        [204,  72,  63]],\n",
       "\n",
       "       [[204,  72,  63],\n",
       "        [204,  72,  63],\n",
       "        [204,  72,  63],\n",
       "        ...,\n",
       "        [204,  72,  63],\n",
       "        [204,  72,  63],\n",
       "        [204,  72,  63]],\n",
       "\n",
       "       [[204,  72,  63],\n",
       "        [204,  72,  63],\n",
       "        [204,  72,  63],\n",
       "        ...,\n",
       "        [204,  72,  63],\n",
       "        [204,  72,  63],\n",
       "        [204,  72,  63]],\n",
       "\n",
       "       ...,\n",
       "\n",
       "       [[204,  72,  63],\n",
       "        [204,  72,  63],\n",
       "        [204,  72,  63],\n",
       "        ...,\n",
       "        [204,  72,  63],\n",
       "        [204,  72,  63],\n",
       "        [204,  72,  63]],\n",
       "\n",
       "       [[204,  72,  63],\n",
       "        [204,  72,  63],\n",
       "        [204,  72,  63],\n",
       "        ...,\n",
       "        [204,  72,  63],\n",
       "        [204,  72,  63],\n",
       "        [204,  72,  63]],\n",
       "\n",
       "       [[204,  72,  63],\n",
       "        [204,  72,  63],\n",
       "        [204,  72,  63],\n",
       "        ...,\n",
       "        [204,  72,  63],\n",
       "        [204,  72,  63],\n",
       "        [204,  72,  63]]], dtype=uint8)"
      ]
     },
     "execution_count": 3,
     "metadata": {},
     "output_type": "execute_result"
    }
   ],
   "source": [
    "im1"
   ]
  },
  {
   "cell_type": "code",
   "execution_count": 4,
   "id": "47d6f7d7",
   "metadata": {},
   "outputs": [],
   "source": [
    "im2=cv2.imread(\"C:/Users/CSES134/Pictures/yellow.png\")"
   ]
  },
  {
   "cell_type": "code",
   "execution_count": 5,
   "id": "8e714a86",
   "metadata": {},
   "outputs": [
    {
     "data": {
      "text/plain": [
       "array([[[  0, 242, 255],\n",
       "        [  0, 242, 255],\n",
       "        [  0, 242, 255],\n",
       "        ...,\n",
       "        [  0, 242, 255],\n",
       "        [  0, 242, 255],\n",
       "        [  0, 242, 255]],\n",
       "\n",
       "       [[  0, 242, 255],\n",
       "        [  0, 242, 255],\n",
       "        [  0, 242, 255],\n",
       "        ...,\n",
       "        [  0, 242, 255],\n",
       "        [  0, 242, 255],\n",
       "        [  0, 242, 255]],\n",
       "\n",
       "       [[  0, 242, 255],\n",
       "        [  0, 242, 255],\n",
       "        [  0, 242, 255],\n",
       "        ...,\n",
       "        [  0, 242, 255],\n",
       "        [  0, 242, 255],\n",
       "        [  0, 242, 255]],\n",
       "\n",
       "       ...,\n",
       "\n",
       "       [[  0, 242, 255],\n",
       "        [  0, 242, 255],\n",
       "        [  0, 242, 255],\n",
       "        ...,\n",
       "        [  0, 242, 255],\n",
       "        [  0, 242, 255],\n",
       "        [  0, 242, 255]],\n",
       "\n",
       "       [[  0, 242, 255],\n",
       "        [  0, 242, 255],\n",
       "        [  0, 242, 255],\n",
       "        ...,\n",
       "        [  0, 242, 255],\n",
       "        [  0, 242, 255],\n",
       "        [  0, 242, 255]],\n",
       "\n",
       "       [[  0, 242, 255],\n",
       "        [  0, 242, 255],\n",
       "        [  0, 242, 255],\n",
       "        ...,\n",
       "        [  0, 242, 255],\n",
       "        [  0, 242, 255],\n",
       "        [  0, 242, 255]]], dtype=uint8)"
      ]
     },
     "execution_count": 5,
     "metadata": {},
     "output_type": "execute_result"
    }
   ],
   "source": [
    "im2"
   ]
  },
  {
   "cell_type": "code",
   "execution_count": 6,
   "id": "0a27a1c4",
   "metadata": {},
   "outputs": [],
   "source": [
    "cv2.imshow(\"img1\",im1)\n",
    "cv2.imshow(\"img2\",im2)\n",
    "cv2.waitKey(0)\n",
    "cv2.destroyAllWindows()"
   ]
  },
  {
   "cell_type": "code",
   "execution_count": 7,
   "id": "7e3c3336",
   "metadata": {},
   "outputs": [],
   "source": [
    "im_blend=cv2.addWeighted(im1,0.5,im2,0.3,0)"
   ]
  },
  {
   "cell_type": "code",
   "execution_count": 8,
   "id": "c6b1b287",
   "metadata": {},
   "outputs": [
    {
     "ename": "AttributeError",
     "evalue": "module 'cv2' has no attribute 'destroyAllwindows'",
     "output_type": "error",
     "traceback": [
      "\u001b[1;31m---------------------------------------------------------------------------\u001b[0m",
      "\u001b[1;31mAttributeError\u001b[0m                            Traceback (most recent call last)",
      "Input \u001b[1;32mIn [8]\u001b[0m, in \u001b[0;36m<cell line: 7>\u001b[1;34m()\u001b[0m\n\u001b[0;32m      5\u001b[0m cv2\u001b[38;5;241m.\u001b[39mimshow(\u001b[38;5;124m\"\u001b[39m\u001b[38;5;124mBlended\u001b[39m\u001b[38;5;124m\"\u001b[39m, im_blend)\n\u001b[0;32m      6\u001b[0m cv2\u001b[38;5;241m.\u001b[39mwaitKey(\u001b[38;5;241m0\u001b[39m)\n\u001b[1;32m----> 7\u001b[0m \u001b[43mcv2\u001b[49m\u001b[38;5;241;43m.\u001b[39;49m\u001b[43mdestroyAllwindows\u001b[49m()\n",
      "\u001b[1;31mAttributeError\u001b[0m: module 'cv2' has no attribute 'destroyAllwindows'"
     ]
    }
   ],
   "source": [
    "cv2.imshow(\"im1\",im1)\n",
    "cv2.waitKey(0)\n",
    "cv2.imshow(\"im2\",im2)\n",
    "cv2.waitKey(0)\n",
    "cv2.imshow(\"Blended\", im_blend)\n",
    "cv2.waitKey(0)\n",
    "cv2.destroyAllwindows()"
   ]
  },
  {
   "cell_type": "markdown",
   "id": "3d9e9ec4",
   "metadata": {},
   "source": [
    "# Colour Blending"
   ]
  },
  {
   "cell_type": "code",
   "execution_count": 9,
   "id": "a7303ce6",
   "metadata": {},
   "outputs": [],
   "source": [
    "import cv2\n",
    "import numpy"
   ]
  },
  {
   "cell_type": "code",
   "execution_count": 10,
   "id": "d7b80e7a",
   "metadata": {},
   "outputs": [],
   "source": [
    "im3=cv2.imread(\"C:/Users/CSES134/Pictures/im1.png\")"
   ]
  },
  {
   "cell_type": "code",
   "execution_count": 11,
   "id": "1d42bc4e",
   "metadata": {},
   "outputs": [
    {
     "data": {
      "text/plain": [
       "array([[[231, 191, 200],\n",
       "        [231, 191, 200],\n",
       "        [231, 191, 200],\n",
       "        ...,\n",
       "        [231, 191, 200],\n",
       "        [231, 191, 200],\n",
       "        [231, 191, 200]],\n",
       "\n",
       "       [[231, 191, 200],\n",
       "        [231, 191, 200],\n",
       "        [231, 191, 200],\n",
       "        ...,\n",
       "        [231, 191, 200],\n",
       "        [231, 191, 200],\n",
       "        [231, 191, 200]],\n",
       "\n",
       "       [[231, 191, 200],\n",
       "        [231, 191, 200],\n",
       "        [231, 191, 200],\n",
       "        ...,\n",
       "        [231, 191, 200],\n",
       "        [231, 191, 200],\n",
       "        [231, 191, 200]],\n",
       "\n",
       "       ...,\n",
       "\n",
       "       [[231, 191, 200],\n",
       "        [231, 191, 200],\n",
       "        [231, 191, 200],\n",
       "        ...,\n",
       "        [231, 191, 200],\n",
       "        [231, 191, 200],\n",
       "        [231, 191, 200]],\n",
       "\n",
       "       [[231, 191, 200],\n",
       "        [231, 191, 200],\n",
       "        [231, 191, 200],\n",
       "        ...,\n",
       "        [231, 191, 200],\n",
       "        [231, 191, 200],\n",
       "        [231, 191, 200]],\n",
       "\n",
       "       [[231, 191, 200],\n",
       "        [231, 191, 200],\n",
       "        [231, 191, 200],\n",
       "        ...,\n",
       "        [231, 191, 200],\n",
       "        [231, 191, 200],\n",
       "        [231, 191, 200]]], dtype=uint8)"
      ]
     },
     "execution_count": 11,
     "metadata": {},
     "output_type": "execute_result"
    }
   ],
   "source": [
    "im3"
   ]
  },
  {
   "cell_type": "code",
   "execution_count": 12,
   "id": "8928562c",
   "metadata": {},
   "outputs": [],
   "source": [
    "im4=cv2.imread(\"C:/Users/CSES134/Pictures/im2.png\")"
   ]
  },
  {
   "cell_type": "code",
   "execution_count": 13,
   "id": "00db0222",
   "metadata": {},
   "outputs": [
    {
     "data": {
      "text/plain": [
       "array([[[ 21,   0, 136],\n",
       "        [ 21,   0, 136],\n",
       "        [ 21,   0, 136],\n",
       "        ...,\n",
       "        [ 21,   0, 136],\n",
       "        [ 21,   0, 136],\n",
       "        [ 21,   0, 136]],\n",
       "\n",
       "       [[ 21,   0, 136],\n",
       "        [ 21,   0, 136],\n",
       "        [ 21,   0, 136],\n",
       "        ...,\n",
       "        [ 21,   0, 136],\n",
       "        [ 21,   0, 136],\n",
       "        [ 21,   0, 136]],\n",
       "\n",
       "       [[ 21,   0, 136],\n",
       "        [ 21,   0, 136],\n",
       "        [ 21,   0, 136],\n",
       "        ...,\n",
       "        [ 21,   0, 136],\n",
       "        [ 21,   0, 136],\n",
       "        [ 21,   0, 136]],\n",
       "\n",
       "       ...,\n",
       "\n",
       "       [[ 21,   0, 136],\n",
       "        [ 21,   0, 136],\n",
       "        [ 21,   0, 136],\n",
       "        ...,\n",
       "        [ 21,   0, 136],\n",
       "        [ 21,   0, 136],\n",
       "        [ 21,   0, 136]],\n",
       "\n",
       "       [[ 21,   0, 136],\n",
       "        [ 21,   0, 136],\n",
       "        [ 21,   0, 136],\n",
       "        ...,\n",
       "        [ 21,   0, 136],\n",
       "        [ 21,   0, 136],\n",
       "        [ 21,   0, 136]],\n",
       "\n",
       "       [[ 21,   0, 136],\n",
       "        [ 21,   0, 136],\n",
       "        [ 21,   0, 136],\n",
       "        ...,\n",
       "        [ 21,   0, 136],\n",
       "        [ 21,   0, 136],\n",
       "        [ 21,   0, 136]]], dtype=uint8)"
      ]
     },
     "execution_count": 13,
     "metadata": {},
     "output_type": "execute_result"
    }
   ],
   "source": [
    "im4"
   ]
  },
  {
   "cell_type": "code",
   "execution_count": 14,
   "id": "161bc48b",
   "metadata": {},
   "outputs": [],
   "source": [
    "cv2.imshow(\"img3\",im3)\n",
    "cv2.imshow(\"img4\",im4)\n",
    "cv2.waitKey(0)\n",
    "cv2.destroyAllWindows()"
   ]
  },
  {
   "cell_type": "code",
   "execution_count": 15,
   "id": "7366a273",
   "metadata": {},
   "outputs": [],
   "source": [
    "blend=cv2.addWeighted(im3,0.5,im4,0.3,0)"
   ]
  },
  {
   "cell_type": "code",
   "execution_count": 16,
   "id": "8b4d3ab7",
   "metadata": {},
   "outputs": [],
   "source": [
    "cv2.imshow(\"blended img\",blend)\n",
    "cv2.waitKey(0)\n",
    "cv2.destroyAllWindows()"
   ]
  },
  {
   "cell_type": "code",
   "execution_count": 17,
   "id": "207db352",
   "metadata": {},
   "outputs": [],
   "source": [
    "sub=cv2.subtract(im3,im4)"
   ]
  },
  {
   "cell_type": "code",
   "execution_count": 18,
   "id": "65592e8e",
   "metadata": {},
   "outputs": [],
   "source": [
    "cv2.imshow(\"sub\",sub)\n",
    "cv2.waitKey(0)\n",
    "cv2.destroyAllWindows()"
   ]
  },
  {
   "cell_type": "code",
   "execution_count": 19,
   "id": "f2960c3c",
   "metadata": {},
   "outputs": [],
   "source": [
    "And=cv2.bitwise_and(im3,im4)\n",
    "OR=cv2.bitwise_or(im3,im4)\n",
    "NOT=cv2.bitwise_not(im3,im4)\n",
    "XOR=cv2.bitwise_xor(im3,im4)"
   ]
  },
  {
   "cell_type": "code",
   "execution_count": 20,
   "id": "ca88b237",
   "metadata": {},
   "outputs": [
    {
     "data": {
      "text/plain": [
       "-1"
      ]
     },
     "execution_count": 20,
     "metadata": {},
     "output_type": "execute_result"
    }
   ],
   "source": [
    "cv2.imshow(\"and\",And)\n",
    "cv2.waitKey(0)\n",
    "cv2.imshow(\"or\",OR)\n",
    "cv2.waitKey(0)\n",
    "cv2.imshow(\"not\",NOT)\n",
    "cv2.waitKey(0)\n",
    "cv2.imshow(\"xor\",XOR)\n",
    "cv2.waitKey(0)"
   ]
  },
  {
   "cell_type": "markdown",
   "id": "75bd289e",
   "metadata": {},
   "source": [
    "# ROI-Region Of Interest"
   ]
  },
  {
   "cell_type": "code",
   "execution_count": 21,
   "id": "36a16c6f",
   "metadata": {},
   "outputs": [],
   "source": [
    "im5=cv2.imread(\"C:/Users/CSES134/Pictures/nature.jpg\")"
   ]
  },
  {
   "cell_type": "code",
   "execution_count": 22,
   "id": "c4bb7fd2",
   "metadata": {},
   "outputs": [],
   "source": [
    "roi=im5[0:50,]"
   ]
  },
  {
   "cell_type": "code",
   "execution_count": 23,
   "id": "41e0f800",
   "metadata": {},
   "outputs": [],
   "source": [
    "cv2.imshow(\"r\",roi)\n",
    "cv2.waitKey(0)\n",
    "cv2.destroyAllWindows()"
   ]
  },
  {
   "cell_type": "code",
   "execution_count": null,
   "id": "7599eae4",
   "metadata": {},
   "outputs": [],
   "source": []
  }
 ],
 "metadata": {
  "kernelspec": {
   "display_name": "Python 3 (ipykernel)",
   "language": "python",
   "name": "python3"
  },
  "language_info": {
   "codemirror_mode": {
    "name": "ipython",
    "version": 3
   },
   "file_extension": ".py",
   "mimetype": "text/x-python",
   "name": "python",
   "nbconvert_exporter": "python",
   "pygments_lexer": "ipython3",
   "version": "3.9.13"
  }
 },
 "nbformat": 4,
 "nbformat_minor": 5
}
