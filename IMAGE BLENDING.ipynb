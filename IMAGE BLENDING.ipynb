{
 "cells": [
  {
   "cell_type": "code",
   "execution_count": 1,
   "id": "57199daa",
   "metadata": {},
   "outputs": [],
   "source": [
    "import cv2\n",
    "import numpy"
   ]
  },
  {
   "cell_type": "code",
   "execution_count": 2,
   "id": "d3b106e2",
   "metadata": {},
   "outputs": [],
   "source": [
    "im1=cv2.imread(\"C:/Users/CSES134/Pictures/blue.png\")"
   ]
  },
  {
   "cell_type": "code",
   "execution_count": 3,
   "id": "0bcee23c",
   "metadata": {},
   "outputs": [
    {
     "data": {
      "text/plain": [
       "array([[[204,  72,  63],\n",
       "        [204,  72,  63],\n",
       "        [204,  72,  63],\n",
       "        ...,\n",
       "        [204,  72,  63],\n",
       "        [204,  72,  63],\n",
       "        [204,  72,  63]],\n",
       "\n",
       "       [[204,  72,  63],\n",
       "        [204,  72,  63],\n",
       "        [204,  72,  63],\n",
       "        ...,\n",
       "        [204,  72,  63],\n",
       "        [204,  72,  63],\n",
       "        [204,  72,  63]],\n",
       "\n",
       "       [[204,  72,  63],\n",
       "        [204,  72,  63],\n",
       "        [204,  72,  63],\n",
       "        ...,\n",
       "        [204,  72,  63],\n",
       "        [204,  72,  63],\n",
       "        [204,  72,  63]],\n",
       "\n",
       "       ...,\n",
       "\n",
       "       [[204,  72,  63],\n",
       "        [204,  72,  63],\n",
       "        [204,  72,  63],\n",
       "        ...,\n",
       "        [204,  72,  63],\n",
       "        [204,  72,  63],\n",
       "        [204,  72,  63]],\n",
       "\n",
       "       [[204,  72,  63],\n",
       "        [204,  72,  63],\n",
       "        [204,  72,  63],\n",
       "        ...,\n",
       "        [204,  72,  63],\n",
       "        [204,  72,  63],\n",
       "        [204,  72,  63]],\n",
       "\n",
       "       [[204,  72,  63],\n",
       "        [204,  72,  63],\n",
       "        [204,  72,  63],\n",
       "        ...,\n",
       "        [204,  72,  63],\n",
       "        [204,  72,  63],\n",
       "        [204,  72,  63]]], dtype=uint8)"
      ]
     },
     "execution_count": 3,
     "metadata": {},
     "output_type": "execute_result"
    }
   ],
   "source": [
    "im1"
   ]
  },
  {
   "cell_type": "code",
   "execution_count": 4,
   "id": "47d6f7d7",
   "metadata": {},
   "outputs": [],
   "source": [
    "im2=cv2.imread(\"C:/Users/CSES134/Pictures/yellow.png\")"
   ]
  },
  {
   "cell_type": "code",
   "execution_count": 5,
   "id": "8e714a86",
   "metadata": {},
   "outputs": [
    {
     "data": {
      "text/plain": [
       "array([[[  0, 242, 255],\n",
       "        [  0, 242, 255],\n",
       "        [  0, 242, 255],\n",
       "        ...,\n",
       "        [  0, 242, 255],\n",
       "        [  0, 242, 255],\n",
       "        [  0, 242, 255]],\n",
       "\n",
       "       [[  0, 242, 255],\n",
       "        [  0, 242, 255],\n",
       "        [  0, 242, 255],\n",
       "        ...,\n",
       "        [  0, 242, 255],\n",
       "        [  0, 242, 255],\n",
       "        [  0, 242, 255]],\n",
       "\n",
       "       [[  0, 242, 255],\n",
       "        [  0, 242, 255],\n",
       "        [  0, 242, 255],\n",
       "        ...,\n",
       "        [  0, 242, 255],\n",
       "        [  0, 242, 255],\n",
       "        [  0, 242, 255]],\n",
       "\n",
       "       ...,\n",
       "\n",
       "       [[  0, 242, 255],\n",
       "        [  0, 242, 255],\n",
       "        [  0, 242, 255],\n",
       "        ...,\n",
       "        [  0, 242, 255],\n",
       "        [  0, 242, 255],\n",
       "        [  0, 242, 255]],\n",
       "\n",
       "       [[  0, 242, 255],\n",
       "        [  0, 242, 255],\n",
       "        [  0, 242, 255],\n",
       "        ...,\n",
       "        [  0, 242, 255],\n",
       "        [  0, 242, 255],\n",
       "        [  0, 242, 255]],\n",
       "\n",
       "       [[  0, 242, 255],\n",
       "        [  0, 242, 255],\n",
       "        [  0, 242, 255],\n",
       "        ...,\n",
       "        [  0, 242, 255],\n",
       "        [  0, 242, 255],\n",
       "        [  0, 242, 255]]], dtype=uint8)"
      ]
     },
     "execution_count": 5,
     "metadata": {},
     "output_type": "execute_result"
    }
   ],
   "source": [
    "im2"
   ]
  },
  {
   "cell_type": "code",
   "execution_count": 6,
   "id": "0a27a1c4",
   "metadata": {},
   "outputs": [],
   "source": [
    "cv2.imshow(\"img1\",im1)\n",
    "cv2.imshow(\"img2\",im2)\n",
    "cv2.waitKey(0)\n",
    "cv2.destroyAllWindows()"
   ]
  },
  {
   "cell_type": "code",
   "execution_count": 7,
   "id": "7e3c3336",
   "metadata": {},
   "outputs": [],
   "source": [
    "im_blend=cv2.addWeighted(im1,0.5,im2,0.3,0)"
   ]
  },
  {
   "cell_type": "code",
   "execution_count": null,
   "id": "c6b1b287",
   "metadata": {},
   "outputs": [],
   "source": [
    "cv2.imshow(\"im1\",im1)\n",
    "cv2.waitKey(0)\n",
    "cv2.imshow(\"im2\",im2)\n",
    "cv2.waitKey(0)\n",
    "cv2.imshow(\"Blended\", im_blend)\n",
    "cv2.waitKey(0)\n",
    "cv2.destroyAllwindows()"
   ]
  },
  {
   "cell_type": "code",
   "execution_count": null,
   "id": "765e7dbd",
   "metadata": {},
   "outputs": [],
   "source": []
  }
 ],
 "metadata": {
  "kernelspec": {
   "display_name": "Python 3 (ipykernel)",
   "language": "python",
   "name": "python3"
  },
  "language_info": {
   "codemirror_mode": {
    "name": "ipython",
    "version": 3
   },
   "file_extension": ".py",
   "mimetype": "text/x-python",
   "name": "python",
   "nbconvert_exporter": "python",
   "pygments_lexer": "ipython3",
   "version": "3.9.13"
  }
 },
 "nbformat": 4,
 "nbformat_minor": 5
}
