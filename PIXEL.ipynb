{
 "cells": [
  {
   "cell_type": "code",
   "execution_count": 1,
   "id": "d6fe0c43",
   "metadata": {},
   "outputs": [],
   "source": [
    "import cv2"
   ]
  },
  {
   "cell_type": "code",
   "execution_count": 2,
   "id": "dfb88b35",
   "metadata": {},
   "outputs": [],
   "source": [
    "import numpy as sn"
   ]
  },
  {
   "cell_type": "code",
   "execution_count": 3,
   "id": "76cb34dd",
   "metadata": {},
   "outputs": [],
   "source": [
    "im2=cv2.imread(\"C:/Users/CSES134/Pictures/edhuku.jpg\",1)"
   ]
  },
  {
   "cell_type": "code",
   "execution_count": 4,
   "id": "2aae1961",
   "metadata": {},
   "outputs": [
    {
     "data": {
      "text/plain": [
       "array([[[  0,   0,   0],\n",
       "        [  0,   0,   0],\n",
       "        [  0,   0,   0],\n",
       "        ...,\n",
       "        [  0,   0,   0],\n",
       "        [  0,   0,   0],\n",
       "        [  0,   0,   0]],\n",
       "\n",
       "       [[160, 160, 160],\n",
       "        [160, 160, 160],\n",
       "        [160, 160, 160],\n",
       "        ...,\n",
       "        [152, 152, 152],\n",
       "        [152, 152, 152],\n",
       "        [152, 152, 152]],\n",
       "\n",
       "       [[127, 127, 127],\n",
       "        [127, 127, 127],\n",
       "        [127, 127, 127],\n",
       "        ...,\n",
       "        [121, 121, 121],\n",
       "        [121, 121, 121],\n",
       "        [121, 121, 121]],\n",
       "\n",
       "       ...,\n",
       "\n",
       "       [[154, 154, 154],\n",
       "        [154, 154, 154],\n",
       "        [154, 154, 154],\n",
       "        ...,\n",
       "        [140, 140, 140],\n",
       "        [140, 140, 140],\n",
       "        [140, 140, 140]],\n",
       "\n",
       "       [[154, 154, 154],\n",
       "        [154, 154, 154],\n",
       "        [154, 154, 154],\n",
       "        ...,\n",
       "        [140, 140, 140],\n",
       "        [140, 140, 140],\n",
       "        [140, 140, 140]],\n",
       "\n",
       "       [[154, 154, 154],\n",
       "        [154, 154, 154],\n",
       "        [154, 154, 154],\n",
       "        ...,\n",
       "        [140, 140, 140],\n",
       "        [140, 140, 140],\n",
       "        [140, 140, 140]]], dtype=uint8)"
      ]
     },
     "execution_count": 4,
     "metadata": {},
     "output_type": "execute_result"
    }
   ],
   "source": [
    "im2"
   ]
  },
  {
   "cell_type": "code",
   "execution_count": 5,
   "id": "fed9d5e3",
   "metadata": {},
   "outputs": [],
   "source": [
    "shp = im2.shape"
   ]
  },
  {
   "cell_type": "code",
   "execution_count": 6,
   "id": "7607dce4",
   "metadata": {},
   "outputs": [
    {
     "name": "stdout",
     "output_type": "stream",
     "text": [
      "(947, 711, 3)\n"
     ]
    }
   ],
   "source": [
    "print(shp)"
   ]
  },
  {
   "cell_type": "markdown",
   "id": "a67b6f59",
   "metadata": {},
   "source": [
    "# Display The Image"
   ]
  },
  {
   "cell_type": "code",
   "execution_count": null,
   "id": "e5e7a766",
   "metadata": {},
   "outputs": [],
   "source": [
    "cv2.imshow(\"siddhes\",im2)\n",
    "cv2.waitKey(3)\n",
    "cv2.destroyAllWindows()"
   ]
  },
  {
   "cell_type": "code",
   "execution_count": null,
   "id": "f5ede1d9",
   "metadata": {},
   "outputs": [],
   "source": [
    "siddhes=im2.shape"
   ]
  },
  {
   "cell_type": "code",
   "execution_count": null,
   "id": "6b7ca6da",
   "metadata": {},
   "outputs": [],
   "source": [
    "print(im2.shape)"
   ]
  },
  {
   "cell_type": "code",
   "execution_count": null,
   "id": "8dbe63fe",
   "metadata": {},
   "outputs": [],
   "source": [
    "print(im2.size)"
   ]
  },
  {
   "cell_type": "code",
   "execution_count": null,
   "id": "8ddbff95",
   "metadata": {},
   "outputs": [],
   "source": [
    "im2_resized=cv2.resize(im2,(250,250))"
   ]
  },
  {
   "cell_type": "code",
   "execution_count": null,
   "id": "c744f448",
   "metadata": {},
   "outputs": [],
   "source": [
    "print(im2_resized.shape)"
   ]
  },
  {
   "cell_type": "code",
   "execution_count": null,
   "id": "a7822ff7",
   "metadata": {},
   "outputs": [],
   "source": [
    "cv2.imshow(\"im2\",siddhes)\n",
    "cv2.imshow(\"im3\",im2_resized)\n",
    "cv2.waitKey(0)\n",
    "cv2.destroyallwindows()"
   ]
  },
  {
   "cell_type": "markdown",
   "id": "a6176f3a",
   "metadata": {},
   "source": [
    "# Color Space Changing"
   ]
  },
  {
   "cell_type": "raw",
   "id": "7a985415",
   "metadata": {},
   "source": [
    "colors_avl=[i for i in dir(cv2) if i.startswith(\"color_BGR\")]"
   ]
  },
  {
   "cell_type": "code",
   "execution_count": 7,
   "id": "be261283",
   "metadata": {},
   "outputs": [
    {
     "name": "stdout",
     "output_type": "stream",
     "text": [
      "colors_avl\n"
     ]
    }
   ],
   "source": [
    "print(\"colors_avl\")"
   ]
  },
  {
   "cell_type": "code",
   "execution_count": 8,
   "id": "7ef44257",
   "metadata": {},
   "outputs": [],
   "source": [
    "im3=cv2.cvtColor(im2,cv2.COLOR_BGR2HSV)"
   ]
  },
  {
   "cell_type": "code",
   "execution_count": null,
   "id": "07217e01",
   "metadata": {},
   "outputs": [],
   "source": [
    "cv2.imshow(\"img1\",im3)\n",
    "cv2.imshow(\"img2\",im3)\n",
    "cv2.waitKey(0)\n",
    "cv2.destroyAllwindows"
   ]
  },
  {
   "cell_type": "code",
   "execution_count": null,
   "id": "c5532926",
   "metadata": {},
   "outputs": [],
   "source": [
    " "
   ]
  }
 ],
 "metadata": {
  "kernelspec": {
   "display_name": "Python 3 (ipykernel)",
   "language": "python",
   "name": "python3"
  },
  "language_info": {
   "codemirror_mode": {
    "name": "ipython",
    "version": 3
   },
   "file_extension": ".py",
   "mimetype": "text/x-python",
   "name": "python",
   "nbconvert_exporter": "python",
   "pygments_lexer": "ipython3",
   "version": "3.9.13"
  }
 },
 "nbformat": 4,
 "nbformat_minor": 5
}
