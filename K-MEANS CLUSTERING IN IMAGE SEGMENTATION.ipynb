{
 "cells": [
  {
   "cell_type": "markdown",
   "id": "e20237ec",
   "metadata": {},
   "source": [
    "# K-MEANS CLUSTERING"
   ]
  },
  {
   "cell_type": "code",
   "execution_count": 1,
   "id": "b7977f4e",
   "metadata": {},
   "outputs": [],
   "source": [
    "import cv2\n",
    "import numpy as np"
   ]
  },
  {
   "cell_type": "markdown",
   "id": "cb67e6b0",
   "metadata": {},
   "source": [
    "# READING IMAGE"
   ]
  },
  {
   "cell_type": "code",
   "execution_count": 2,
   "id": "9768cd49",
   "metadata": {},
   "outputs": [
    {
     "data": {
      "text/plain": [
       "array([[[ 28,  37,  47],\n",
       "        [ 30,  38,  51],\n",
       "        [ 33,  40,  55],\n",
       "        ...,\n",
       "        [ 82, 102, 133],\n",
       "        [ 79,  99, 130],\n",
       "        [ 77,  97, 128]],\n",
       "\n",
       "       [[ 30,  36,  47],\n",
       "        [ 31,  37,  50],\n",
       "        [ 32,  39,  54],\n",
       "        ...,\n",
       "        [ 82, 103, 131],\n",
       "        [ 80, 101, 129],\n",
       "        [ 78,  99, 127]],\n",
       "\n",
       "       [[ 32,  36,  47],\n",
       "        [ 33,  36,  50],\n",
       "        [ 33,  38,  53],\n",
       "        ...,\n",
       "        [ 81, 102, 130],\n",
       "        [ 80, 101, 129],\n",
       "        [ 79, 100, 128]],\n",
       "\n",
       "       ...,\n",
       "\n",
       "       [[ 42,  68, 104],\n",
       "        [ 51,  71, 118],\n",
       "        [ 48,  67, 118],\n",
       "        ...,\n",
       "        [ 13,  17,  18],\n",
       "        [ 14,  18,  19],\n",
       "        [ 11,  15,  16]],\n",
       "\n",
       "       [[ 41,  65, 101],\n",
       "        [ 47,  68, 113],\n",
       "        [ 46,  63, 114],\n",
       "        ...,\n",
       "        [ 16,  20,  21],\n",
       "        [ 15,  19,  20],\n",
       "        [ 11,  15,  16]],\n",
       "\n",
       "       [[ 38,  60,  95],\n",
       "        [ 44,  63, 106],\n",
       "        [ 43,  58, 107],\n",
       "        ...,\n",
       "        [ 18,  22,  23],\n",
       "        [ 16,  20,  21],\n",
       "        [ 11,  15,  16]]], dtype=uint8)"
      ]
     },
     "execution_count": 2,
     "metadata": {},
     "output_type": "execute_result"
    }
   ],
   "source": [
    "img=cv2.imread(\"climb.jpg\")\n",
    "img"
   ]
  },
  {
   "cell_type": "markdown",
   "id": "d82459a5",
   "metadata": {},
   "source": [
    "# RGB CONVERSION"
   ]
  },
  {
   "cell_type": "code",
   "execution_count": 4,
   "id": "bdab0544",
   "metadata": {},
   "outputs": [],
   "source": [
    "imgrgb=cv2.cvtColor(img,cv2.COLOR_BGR2RGB)"
   ]
  },
  {
   "cell_type": "markdown",
   "id": "4066c262",
   "metadata": {},
   "source": [
    "# RESHAPE"
   ]
  },
  {
   "cell_type": "code",
   "execution_count": 5,
   "id": "cb866427",
   "metadata": {},
   "outputs": [
    {
     "data": {
      "text/plain": [
       "array([[47, 37, 28],\n",
       "       [51, 38, 30],\n",
       "       [55, 40, 33],\n",
       "       ...,\n",
       "       [23, 22, 18],\n",
       "       [21, 20, 16],\n",
       "       [16, 15, 11]], dtype=uint8)"
      ]
     },
     "execution_count": 5,
     "metadata": {},
     "output_type": "execute_result"
    }
   ],
   "source": [
    "vec=imgrgb.reshape((-1,3))\n",
    "vec"
   ]
  },
  {
   "cell_type": "markdown",
   "id": "ad92289d",
   "metadata": {},
   "source": [
    "# FLOAT CONVERSION"
   ]
  },
  {
   "cell_type": "code",
   "execution_count": 7,
   "id": "adedae4a",
   "metadata": {},
   "outputs": [
    {
     "data": {
      "text/plain": [
       "array([[47., 37., 28.],\n",
       "       [51., 38., 30.],\n",
       "       [55., 40., 33.],\n",
       "       ...,\n",
       "       [23., 22., 18.],\n",
       "       [21., 20., 16.],\n",
       "       [16., 15., 11.]], dtype=float32)"
      ]
     },
     "execution_count": 7,
     "metadata": {},
     "output_type": "execute_result"
    }
   ],
   "source": [
    "vec=np.float32(vec)\n",
    "vec"
   ]
  },
  {
   "cell_type": "markdown",
   "id": "c12d12e8",
   "metadata": {},
   "source": [
    "# ITERATION TERMINATION CRITERIA"
   ]
  },
  {
   "cell_type": "code",
   "execution_count": 8,
   "id": "0483e806",
   "metadata": {},
   "outputs": [],
   "source": [
    "criteria=(cv2.TERM_CRITERIA_EPS + cv2.TERM_CRITERIA_MAX_ITER, 100, 1)"
   ]
  },
  {
   "cell_type": "code",
   "execution_count": 9,
   "id": "1d2d7965",
   "metadata": {},
   "outputs": [
    {
     "data": {
      "text/plain": [
       "(3, 100, 1)"
      ]
     },
     "execution_count": 9,
     "metadata": {},
     "output_type": "execute_result"
    }
   ],
   "source": [
    "criteria"
   ]
  },
  {
   "cell_type": "markdown",
   "id": "de9f097e",
   "metadata": {},
   "source": [
    "# CLUSTER CONDITIONS"
   ]
  },
  {
   "cell_type": "code",
   "execution_count": 10,
   "id": "22eef9b4",
   "metadata": {},
   "outputs": [],
   "source": [
    "k=3\n",
    "attempts=100"
   ]
  },
  {
   "cell_type": "markdown",
   "id": "bd3df3f4",
   "metadata": {},
   "source": [
    "# K-MEANS"
   ]
  },
  {
   "cell_type": "code",
   "execution_count": 11,
   "id": "227c89c9",
   "metadata": {},
   "outputs": [
    {
     "data": {
      "text/plain": [
       "array([[204.21313 , 156.77446 , 110.68391 ],\n",
       "       [ 44.77256 ,  33.43882 ,  25.47575 ],\n",
       "       [120.90649 ,  83.041504,  54.467266]], dtype=float32)"
      ]
     },
     "execution_count": 11,
     "metadata": {},
     "output_type": "execute_result"
    }
   ],
   "source": [
    "compactness,label,center=cv2.kmeans(vec,k,None,criteria,attempts,cv2.KMEANS_PP_CENTERS)\n",
    "center"
   ]
  },
  {
   "cell_type": "code",
   "execution_count": 12,
   "id": "789801fb",
   "metadata": {},
   "outputs": [
    {
     "data": {
      "text/plain": [
       "346095871.51373696"
      ]
     },
     "execution_count": 12,
     "metadata": {},
     "output_type": "execute_result"
    }
   ],
   "source": [
    "compactness"
   ]
  },
  {
   "cell_type": "code",
   "execution_count": 13,
   "id": "e5e3729f",
   "metadata": {},
   "outputs": [
    {
     "data": {
      "text/plain": [
       "array([[1],\n",
       "       [1],\n",
       "       [1],\n",
       "       ...,\n",
       "       [1],\n",
       "       [1],\n",
       "       [1]], dtype=int32)"
      ]
     },
     "execution_count": 13,
     "metadata": {},
     "output_type": "execute_result"
    }
   ],
   "source": [
    "label"
   ]
  },
  {
   "cell_type": "markdown",
   "id": "0a1b7140",
   "metadata": {},
   "source": [
    "# UINT CONVERSION"
   ]
  },
  {
   "cell_type": "code",
   "execution_count": 14,
   "id": "b0607d58",
   "metadata": {},
   "outputs": [
    {
     "data": {
      "text/plain": [
       "array([[204, 156, 110],\n",
       "       [ 44,  33,  25],\n",
       "       [120,  83,  54]], dtype=uint8)"
      ]
     },
     "execution_count": 14,
     "metadata": {},
     "output_type": "execute_result"
    }
   ],
   "source": [
    "center = np.uint8(center)\n",
    "center"
   ]
  },
  {
   "cell_type": "markdown",
   "id": "5a787f2a",
   "metadata": {},
   "source": [
    "# FLATTENING AND RESHAPE"
   ]
  },
  {
   "cell_type": "code",
   "execution_count": 15,
   "id": "f849e218",
   "metadata": {},
   "outputs": [
    {
     "data": {
      "text/plain": [
       "array([[[ 44,  33,  25],\n",
       "        [ 44,  33,  25],\n",
       "        [ 44,  33,  25],\n",
       "        ...,\n",
       "        [120,  83,  54],\n",
       "        [120,  83,  54],\n",
       "        [120,  83,  54]],\n",
       "\n",
       "       [[ 44,  33,  25],\n",
       "        [ 44,  33,  25],\n",
       "        [ 44,  33,  25],\n",
       "        ...,\n",
       "        [120,  83,  54],\n",
       "        [120,  83,  54],\n",
       "        [120,  83,  54]],\n",
       "\n",
       "       [[ 44,  33,  25],\n",
       "        [ 44,  33,  25],\n",
       "        [ 44,  33,  25],\n",
       "        ...,\n",
       "        [120,  83,  54],\n",
       "        [120,  83,  54],\n",
       "        [120,  83,  54]],\n",
       "\n",
       "       ...,\n",
       "\n",
       "       [[120,  83,  54],\n",
       "        [120,  83,  54],\n",
       "        [120,  83,  54],\n",
       "        ...,\n",
       "        [ 44,  33,  25],\n",
       "        [ 44,  33,  25],\n",
       "        [ 44,  33,  25]],\n",
       "\n",
       "       [[120,  83,  54],\n",
       "        [120,  83,  54],\n",
       "        [120,  83,  54],\n",
       "        ...,\n",
       "        [ 44,  33,  25],\n",
       "        [ 44,  33,  25],\n",
       "        [ 44,  33,  25]],\n",
       "\n",
       "       [[120,  83,  54],\n",
       "        [120,  83,  54],\n",
       "        [120,  83,  54],\n",
       "        ...,\n",
       "        [ 44,  33,  25],\n",
       "        [ 44,  33,  25],\n",
       "        [ 44,  33,  25]]], dtype=uint8)"
      ]
     },
     "execution_count": 15,
     "metadata": {},
     "output_type": "execute_result"
    }
   ],
   "source": [
    "res=center[label.flatten()]\n",
    "res_img=res.reshape((imgrgb.shape))\n",
    "res_img"
   ]
  },
  {
   "cell_type": "markdown",
   "id": "e6545463",
   "metadata": {},
   "source": [
    "# IMAGE"
   ]
  },
  {
   "cell_type": "code",
   "execution_count": 16,
   "id": "0a9d6540",
   "metadata": {},
   "outputs": [],
   "source": [
    "cv2.imshow('original',img)\n",
    "cv2.imshow('segmented',res_img)\n",
    "cv2.waitKey(0)\n",
    "cv2.destroyAllWindows()"
   ]
  },
  {
   "cell_type": "code",
   "execution_count": 18,
   "id": "1f1aefdb",
   "metadata": {},
   "outputs": [],
   "source": [
    "image =cv2.imread('climb.jpg')\n",
    "segmented_image=cv2.pyrMeanShiftFiltering(image,40,40)\n",
    "cv2.imshow('original_Image',image)\n",
    "cv2.imshow('Segmented Image',segmented_image)\n",
    "cv2.waitKey(0)\n",
    "cv2.destroyAllWindows()"
   ]
  },
  {
   "cell_type": "code",
   "execution_count": null,
   "id": "3c6989ea",
   "metadata": {},
   "outputs": [],
   "source": []
  }
 ],
 "metadata": {
  "kernelspec": {
   "display_name": "Python 3 (ipykernel)",
   "language": "python",
   "name": "python3"
  },
  "language_info": {
   "codemirror_mode": {
    "name": "ipython",
    "version": 3
   },
   "file_extension": ".py",
   "mimetype": "text/x-python",
   "name": "python",
   "nbconvert_exporter": "python",
   "pygments_lexer": "ipython3",
   "version": "3.9.13"
  }
 },
 "nbformat": 4,
 "nbformat_minor": 5
}
