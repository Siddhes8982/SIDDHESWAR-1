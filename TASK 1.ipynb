{
 "cells": [
  {
   "cell_type": "code",
   "execution_count": 1,
   "id": "d911071c",
   "metadata": {},
   "outputs": [],
   "source": [
    "import cv2"
   ]
  },
  {
   "cell_type": "code",
   "execution_count": 2,
   "id": "421a7530",
   "metadata": {},
   "outputs": [],
   "source": [
    "import numpy as sn"
   ]
  },
  {
   "cell_type": "code",
   "execution_count": 3,
   "id": "d16c2209",
   "metadata": {},
   "outputs": [],
   "source": [
    "im=cv2.imread(\"C:/Users/CSES134/Pictures/forest.jpg\",1)"
   ]
  },
  {
   "cell_type": "code",
   "execution_count": 4,
   "id": "a3327080",
   "metadata": {},
   "outputs": [
    {
     "data": {
      "text/plain": [
       "array([[[183, 182, 172],\n",
       "        [183, 182, 172],\n",
       "        [183, 182, 172],\n",
       "        ...,\n",
       "        [209, 211, 205],\n",
       "        [209, 211, 205],\n",
       "        [209, 211, 205]],\n",
       "\n",
       "       [[184, 183, 173],\n",
       "        [183, 182, 172],\n",
       "        [183, 182, 172],\n",
       "        ...,\n",
       "        [209, 211, 205],\n",
       "        [209, 211, 205],\n",
       "        [209, 211, 205]],\n",
       "\n",
       "       [[184, 183, 173],\n",
       "        [183, 182, 172],\n",
       "        [183, 182, 172],\n",
       "        ...,\n",
       "        [209, 211, 205],\n",
       "        [209, 211, 205],\n",
       "        [209, 211, 205]],\n",
       "\n",
       "       ...,\n",
       "\n",
       "       [[195, 186, 212],\n",
       "        [188, 176, 204],\n",
       "        [206, 190, 221],\n",
       "        ...,\n",
       "        [  3,   4,  18],\n",
       "        [  2,   3,  17],\n",
       "        [  0,   1,  15]],\n",
       "\n",
       "       [[191, 181, 211],\n",
       "        [182, 170, 200],\n",
       "        [173, 156, 189],\n",
       "        ...,\n",
       "        [  5,   6,  20],\n",
       "        [  4,   5,  19],\n",
       "        [  2,   3,  17]],\n",
       "\n",
       "       [[209, 198, 230],\n",
       "        [196, 182, 216],\n",
       "        [197, 180, 214],\n",
       "        ...,\n",
       "        [  4,   7,  21],\n",
       "        [  3,   6,  20],\n",
       "        [  2,   5,  19]]], dtype=uint8)"
      ]
     },
     "execution_count": 4,
     "metadata": {},
     "output_type": "execute_result"
    }
   ],
   "source": [
    "im"
   ]
  },
  {
   "cell_type": "code",
   "execution_count": null,
   "id": "97a8379c",
   "metadata": {},
   "outputs": [],
   "source": [
    "cv2.imshow(\"siddhes\",im)\n",
    "cv2.waitKey()\n",
    "cv2.DestroyAllWindows"
   ]
  },
  {
   "cell_type": "code",
   "execution_count": null,
   "id": "ee7983ca",
   "metadata": {},
   "outputs": [],
   "source": []
  }
 ],
 "metadata": {
  "kernelspec": {
   "display_name": "Python 3 (ipykernel)",
   "language": "python",
   "name": "python3"
  },
  "language_info": {
   "codemirror_mode": {
    "name": "ipython",
    "version": 3
   },
   "file_extension": ".py",
   "mimetype": "text/x-python",
   "name": "python",
   "nbconvert_exporter": "python",
   "pygments_lexer": "ipython3",
   "version": "3.9.13"
  }
 },
 "nbformat": 4,
 "nbformat_minor": 5
}
