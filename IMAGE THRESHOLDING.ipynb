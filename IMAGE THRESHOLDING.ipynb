{
 "cells": [
  {
   "cell_type": "markdown",
   "id": "96910169",
   "metadata": {},
   "source": [
    "# Image Thresholding"
   ]
  },
  {
   "cell_type": "code",
   "execution_count": 1,
   "id": "0d6c0030",
   "metadata": {},
   "outputs": [],
   "source": [
    "import cv2\n",
    "import numpy"
   ]
  },
  {
   "cell_type": "code",
   "execution_count": 2,
   "id": "7b2c8c69",
   "metadata": {},
   "outputs": [],
   "source": [
    "im1=cv2.imread(\"climb.jpg\",0)"
   ]
  },
  {
   "cell_type": "code",
   "execution_count": 3,
   "id": "54583ca9",
   "metadata": {},
   "outputs": [],
   "source": [
    "cv2.imshow(\"im1\",im1)\n",
    "cv2.waitKey(0)\n",
    "cv2.destroyAllWindows()"
   ]
  },
  {
   "cell_type": "code",
   "execution_count": 4,
   "id": "81238045",
   "metadata": {},
   "outputs": [
    {
     "data": {
      "text/plain": [
       "array([[ 39,  41,  44, ..., 109, 106, 104],\n",
       "       [ 39,  40,  43, ..., 109, 107, 105],\n",
       "       [ 39,  40,  42, ..., 108, 107, 106],\n",
       "       ...,\n",
       "       [ 76,  83,  80, ...,  17,  18,  15],\n",
       "       [ 73,  79,  76, ...,  20,  19,  15],\n",
       "       [ 68,  74,  71, ...,  22,  20,  15]], dtype=uint8)"
      ]
     },
     "execution_count": 4,
     "metadata": {},
     "output_type": "execute_result"
    }
   ],
   "source": [
    "im1"
   ]
  },
  {
   "cell_type": "code",
   "execution_count": 5,
   "id": "e5743624",
   "metadata": {},
   "outputs": [],
   "source": [
    "ret,thres=cv2.threshold(im1,83,100,cv2.THRESH_BINARY)"
   ]
  },
  {
   "cell_type": "code",
   "execution_count": 6,
   "id": "2d1baf22",
   "metadata": {},
   "outputs": [
    {
     "ename": "AttributeError",
     "evalue": "module 'cv2' has no attribute 'destoryAllWindows'",
     "output_type": "error",
     "traceback": [
      "\u001b[1;31m---------------------------------------------------------------------------\u001b[0m",
      "\u001b[1;31mAttributeError\u001b[0m                            Traceback (most recent call last)",
      "Input \u001b[1;32mIn [6]\u001b[0m, in \u001b[0;36m<cell line: 3>\u001b[1;34m()\u001b[0m\n\u001b[0;32m      1\u001b[0m cv2\u001b[38;5;241m.\u001b[39mimshow(\u001b[38;5;124m\"\u001b[39m\u001b[38;5;124mim1\u001b[39m\u001b[38;5;124m\"\u001b[39m,im1)\n\u001b[0;32m      2\u001b[0m cv2\u001b[38;5;241m.\u001b[39mwaitKey(\u001b[38;5;241m0\u001b[39m)\n\u001b[1;32m----> 3\u001b[0m \u001b[43mcv2\u001b[49m\u001b[38;5;241;43m.\u001b[39;49m\u001b[43mdestoryAllWindows\u001b[49m()\n",
      "\u001b[1;31mAttributeError\u001b[0m: module 'cv2' has no attribute 'destoryAllWindows'"
     ]
    }
   ],
   "source": [
    "cv2.imshow(\"im1\",im1)\n",
    "cv2.waitKey(0)\n",
    "cv2.destoryAllWindows()"
   ]
  },
  {
   "cell_type": "markdown",
   "id": "0ff307e9",
   "metadata": {},
   "source": [
    "# Syntax"
   ]
  },
  {
   "cell_type": "code",
   "execution_count": 7,
   "id": "d8bed160",
   "metadata": {},
   "outputs": [],
   "source": [
    "ret,thres1=cv2.threshold(im1,253,200,cv2.THRESH_BINARY)\n",
    "ret,thres2=cv2.threshold(im1,253,200,cv2.THRESH_BINARY_INV)\n",
    "ret,thres3=cv2.threshold(im1,253,200,cv2.THRESH_TRUNC)\n",
    "ret,thres4=cv2.threshold(im1,253,200,cv2.THRESH_TOZERO)\n",
    "ret,thres5=cv2.threshold(im1,253,200,cv2.THRESH_TOZERO_INV)"
   ]
  },
  {
   "cell_type": "code",
   "execution_count": null,
   "id": "d9bbde64",
   "metadata": {},
   "outputs": [],
   "source": [
    "cv2.imshow(\"thres1\",thres1)\n",
    "cv2.waitKey(0)\n",
    "cv2.imshow(\"thres2\",thres2)\n",
    "cv2.waitKey(0)\n",
    "cv2.imshow(\"thres3\",thres3)\n",
    "cv2.waitKey(0)\n",
    "cv2.imshow(\"thres4\",thres4)\n",
    "cv2.waitKey(0)\n",
    "cv2.imshow(\"thres5\",thres5)\n",
    "cv2.waitKey(0)\n"
   ]
  }
 ],
 "metadata": {
  "kernelspec": {
   "display_name": "Python 3 (ipykernel)",
   "language": "python",
   "name": "python3"
  },
  "language_info": {
   "codemirror_mode": {
    "name": "ipython",
    "version": 3
   },
   "file_extension": ".py",
   "mimetype": "text/x-python",
   "name": "python",
   "nbconvert_exporter": "python",
   "pygments_lexer": "ipython3",
   "version": "3.9.13"
  }
 },
 "nbformat": 4,
 "nbformat_minor": 5
}
