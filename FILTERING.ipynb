{
 "cells": [
  {
   "cell_type": "markdown",
   "id": "9420eca8",
   "metadata": {},
   "source": [
    "# FILTERING"
   ]
  },
  {
   "cell_type": "code",
   "execution_count": 1,
   "id": "dae737fa",
   "metadata": {},
   "outputs": [],
   "source": [
    "import cv2 as cv\n",
    "import matplotlib.pyplot as plt\n",
    "import numpy as np"
   ]
  },
  {
   "cell_type": "code",
   "execution_count": 2,
   "id": "f16fce23",
   "metadata": {},
   "outputs": [],
   "source": [
    "img=cv.imread(\"forest.jpg\")\n",
    "kernal=np.ones((6,6),np.float32)/36\n",
    "filter=cv.filter2D(img,-1,kernal)\n",
    "cv.imshow('image',img)\n",
    "cv.imshow('filter2d',filter)\n",
    "cv.waitKey(0)\n",
    "cv.destroyAllWindows()"
   ]
  },
  {
   "cell_type": "markdown",
   "id": "8f601c64",
   "metadata": {},
   "source": [
    "# BLURING"
   ]
  },
  {
   "cell_type": "code",
   "execution_count": 3,
   "id": "a6d03ec6",
   "metadata": {},
   "outputs": [],
   "source": [
    "img=cv.imread('edhuku.jpg')\n",
    "blur=cv.blur(img,(5,5))\n",
    "cv.imshow('image',img)\n",
    "cv.imshow('blur',blur)\n",
    "cv.waitKey(0)\n",
    "cv.destroyAllWindows()"
   ]
  },
  {
   "cell_type": "markdown",
   "id": "53eb2e7e",
   "metadata": {},
   "source": [
    "# GAUSSIAN BLUR"
   ]
  },
  {
   "cell_type": "code",
   "execution_count": 4,
   "id": "54b0fb7d",
   "metadata": {},
   "outputs": [],
   "source": [
    "img=cv.imread('noise image.jpg')\n",
    "Gblur=cv.GaussianBlur(img,(5,5),0)\n",
    "cv.imshow('image',img)\n",
    "cv.imshow('GaussianBlur',Gblur)\n",
    "cv.waitKey(0)\n",
    "cv.destroyAllWindows()"
   ]
  },
  {
   "cell_type": "markdown",
   "id": "4c5eaf8d",
   "metadata": {},
   "source": [
    "# BILATERAL FILTER"
   ]
  },
  {
   "cell_type": "code",
   "execution_count": 11,
   "id": "e6a7ba2d",
   "metadata": {},
   "outputs": [
    {
     "name": "stdout",
     "output_type": "stream",
     "text": [
      "(348, 612, 3)\n"
     ]
    }
   ],
   "source": [
    "img=cv.imread('climb.jpg')\n",
    "print(img.shape)\n",
    "Bfilter=cv.bilateralFilter(img,9,45,45)\n",
    "cv.imshow('image',img)\n",
    "cv.imshow('Bilateralfilter',Bfilter)\n",
    "cv.waitKey(0)\n",
    "cv.destroyAllWindows()"
   ]
  },
  {
   "cell_type": "markdown",
   "id": "ece9bd34",
   "metadata": {},
   "source": [
    "# MEDIAN FILTER"
   ]
  },
  {
   "cell_type": "code",
   "execution_count": 12,
   "id": "258dc217",
   "metadata": {},
   "outputs": [],
   "source": [
    "img=cv.imread('noise.png')\n",
    "medianfilter=cv.medianBlur(img,5)\n",
    "cv.imshow('image',img)\n",
    "cv.imshow('medianBlur',medianfilter)\n",
    "cv.waitKey(0)\n",
    "cv.destroyAllWindows()"
   ]
  },
  {
   "cell_type": "markdown",
   "id": "1882f0c8",
   "metadata": {},
   "source": [
    "# LAPLACIAN FILTER"
   ]
  },
  {
   "cell_type": "code",
   "execution_count": 16,
   "id": "7107ac8f",
   "metadata": {},
   "outputs": [],
   "source": [
    "img=cv.imread(\"noise.png\",0)\n",
    "lap=cv.Laplacian(img,cv.CV_32F,ksize=3)\n",
    "cv.imshow('image',img)\n",
    "cv.imshow('laplacian',lap)\n",
    "cv.waitKey(0)\n",
    "cv.destroyAllWindows()"
   ]
  },
  {
   "cell_type": "markdown",
   "id": "a479579e",
   "metadata": {},
   "source": [
    "# SOBEL FILTER"
   ]
  },
  {
   "cell_type": "code",
   "execution_count": 21,
   "id": "008fb012",
   "metadata": {},
   "outputs": [],
   "source": [
    "img=cv.imread(\"noise.png\",0)\n",
    "sobelx=cv.Sobel(img,cv.CV_64F,1,1,ksize=3)\n",
    "sobelx=np.uint8(np.absolute(sobelx))\n",
    "cv.imshow('image',img)\n",
    "cv.imshow('sobelx',sobelx)\n",
    "cv.waitKey(0)\n",
    "cv.destroyAllWindows()"
   ]
  },
  {
   "cell_type": "code",
   "execution_count": 22,
   "id": "06e6b2ac",
   "metadata": {},
   "outputs": [],
   "source": [
    "img=cv.imread(\"noise.png\",0)\n",
    "sobely=cv.Sobel(img,cv.CV_64F,1,1,ksize=3)\n",
    "sobely=np.uint8(np.absolute(sobely))\n",
    "cv.imshow('image',img)\n",
    "cv.imshow('sobely',sobely)\n",
    "cv.waitKey(0)\n",
    "cv.destroyAllWindows()"
   ]
  },
  {
   "cell_type": "code",
   "execution_count": null,
   "id": "8c7f4e31",
   "metadata": {},
   "outputs": [],
   "source": []
  }
 ],
 "metadata": {
  "kernelspec": {
   "display_name": "Python 3 (ipykernel)",
   "language": "python",
   "name": "python3"
  },
  "language_info": {
   "codemirror_mode": {
    "name": "ipython",
    "version": 3
   },
   "file_extension": ".py",
   "mimetype": "text/x-python",
   "name": "python",
   "nbconvert_exporter": "python",
   "pygments_lexer": "ipython3",
   "version": "3.9.13"
  }
 },
 "nbformat": 4,
 "nbformat_minor": 5
}
