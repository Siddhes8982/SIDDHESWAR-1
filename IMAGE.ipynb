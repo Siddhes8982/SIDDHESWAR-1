{
 "cells": [
  {
   "cell_type": "code",
   "execution_count": 1,
   "id": "d8583842",
   "metadata": {},
   "outputs": [],
   "source": [
    "import cv2"
   ]
  },
  {
   "cell_type": "code",
   "execution_count": 2,
   "id": "b5218f0d",
   "metadata": {},
   "outputs": [],
   "source": [
    "import numpy as sn"
   ]
  },
  {
   "cell_type": "code",
   "execution_count": 3,
   "id": "db59dc98",
   "metadata": {},
   "outputs": [],
   "source": [
    "im1=cv2.imread(\"C:/Users/CSES134/Pictures/nature.jpg\",1)"
   ]
  },
  {
   "cell_type": "code",
   "execution_count": 4,
   "id": "8a03a3e8",
   "metadata": {},
   "outputs": [
    {
     "data": {
      "text/plain": [
       "array([[[23, 11, 11],\n",
       "        [24, 12, 12],\n",
       "        [26, 14, 14],\n",
       "        ...,\n",
       "        [30, 12, 13],\n",
       "        [30, 12, 13],\n",
       "        [30, 12, 13]],\n",
       "\n",
       "       [[23, 11, 11],\n",
       "        [24, 12, 12],\n",
       "        [26, 14, 14],\n",
       "        ...,\n",
       "        [30, 12, 13],\n",
       "        [30, 12, 13],\n",
       "        [30, 12, 13]],\n",
       "\n",
       "       [[23, 10, 12],\n",
       "        [24, 11, 13],\n",
       "        [25, 12, 14],\n",
       "        ...,\n",
       "        [30, 12, 13],\n",
       "        [30, 12, 13],\n",
       "        [30, 12, 13]],\n",
       "\n",
       "       ...,\n",
       "\n",
       "       [[ 4,  4,  4],\n",
       "        [ 4,  4,  4],\n",
       "        [ 4,  4,  4],\n",
       "        ...,\n",
       "        [ 4,  4,  4],\n",
       "        [ 4,  4,  4],\n",
       "        [ 4,  4,  4]],\n",
       "\n",
       "       [[ 4,  4,  4],\n",
       "        [ 4,  4,  4],\n",
       "        [ 4,  4,  4],\n",
       "        ...,\n",
       "        [ 4,  4,  4],\n",
       "        [ 4,  4,  4],\n",
       "        [ 4,  4,  4]],\n",
       "\n",
       "       [[ 4,  4,  4],\n",
       "        [ 4,  4,  4],\n",
       "        [ 4,  4,  4],\n",
       "        ...,\n",
       "        [ 4,  4,  4],\n",
       "        [ 4,  4,  4],\n",
       "        [ 4,  4,  4]]], dtype=uint8)"
      ]
     },
     "execution_count": 4,
     "metadata": {},
     "output_type": "execute_result"
    }
   ],
   "source": [
    "im1"
   ]
  },
  {
   "cell_type": "code",
   "execution_count": null,
   "id": "949184fd",
   "metadata": {},
   "outputs": [],
   "source": [
    "cv2.imshow(\"siddhes\",im1)\n",
    "cv2.waitKey()\n",
    "cv2.DestroyAllWindows"
   ]
  },
  {
   "cell_type": "code",
   "execution_count": null,
   "id": "d8503b81",
   "metadata": {},
   "outputs": [],
   "source": []
  }
 ],
 "metadata": {
  "kernelspec": {
   "display_name": "Python 3 (ipykernel)",
   "language": "python",
   "name": "python3"
  },
  "language_info": {
   "codemirror_mode": {
    "name": "ipython",
    "version": 3
   },
   "file_extension": ".py",
   "mimetype": "text/x-python",
   "name": "python",
   "nbconvert_exporter": "python",
   "pygments_lexer": "ipython3",
   "version": "3.9.13"
  }
 },
 "nbformat": 4,
 "nbformat_minor": 5
}
